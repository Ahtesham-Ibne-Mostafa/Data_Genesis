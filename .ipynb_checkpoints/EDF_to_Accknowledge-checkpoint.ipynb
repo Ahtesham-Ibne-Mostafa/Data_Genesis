{
 "cells": [
  {
   "cell_type": "code",
   "execution_count": 4,
   "id": "ec3fe8ec-f2b0-4647-a28b-2465714a43ba",
   "metadata": {},
   "outputs": [
    {
     "name": "stdout",
     "output_type": "stream",
     "text": [
      "\u001b[33mWARNING: Ignoring invalid distribution -rpcio (/home/ahtesham/anaconda3/lib/python3.9/site-packages)\u001b[0m\u001b[33m\n",
      "\u001b[0m\u001b[33mWARNING: Ignoring invalid distribution -rpcio (/home/ahtesham/anaconda3/lib/python3.9/site-packages)\u001b[0m\u001b[33m\n",
      "\u001b[0mRequirement already satisfied: pyEDFlib in /home/ahtesham/anaconda3/lib/python3.9/site-packages (0.1.32)\n",
      "Requirement already satisfied: numpy>=1.9.1 in /home/ahtesham/anaconda3/lib/python3.9/site-packages (from pyEDFlib) (1.24.3)\n",
      "\u001b[33mWARNING: Ignoring invalid distribution -rpcio (/home/ahtesham/anaconda3/lib/python3.9/site-packages)\u001b[0m\u001b[33m\n",
      "\u001b[0m\u001b[33mWARNING: Ignoring invalid distribution -rpcio (/home/ahtesham/anaconda3/lib/python3.9/site-packages)\u001b[0m\u001b[33m\n",
      "\u001b[0m\u001b[33mWARNING: Ignoring invalid distribution -rpcio (/home/ahtesham/anaconda3/lib/python3.9/site-packages)\u001b[0m\u001b[33m\n",
      "\u001b[0m\u001b[33mWARNING: Ignoring invalid distribution -rpcio (/home/ahtesham/anaconda3/lib/python3.9/site-packages)\u001b[0m\u001b[33m\n",
      "\u001b[0m\u001b[33mWARNING: Ignoring invalid distribution -rpcio (/home/ahtesham/anaconda3/lib/python3.9/site-packages)\u001b[0m\u001b[33m\n",
      "\u001b[0m\u001b[33mWARNING: Ignoring invalid distribution -rpcio (/home/ahtesham/anaconda3/lib/python3.9/site-packages)\u001b[0m\u001b[33m\n",
      "\u001b[0mRequirement already satisfied: mne in /home/ahtesham/anaconda3/lib/python3.9/site-packages (1.4.0)\n",
      "Requirement already satisfied: pooch>=1.5 in /home/ahtesham/anaconda3/lib/python3.9/site-packages (from mne) (1.7.0)\n",
      "Requirement already satisfied: numpy>=1.15.4 in /home/ahtesham/anaconda3/lib/python3.9/site-packages (from mne) (1.24.3)\n",
      "Requirement already satisfied: decorator in /home/ahtesham/anaconda3/lib/python3.9/site-packages (from mne) (5.1.1)\n",
      "Requirement already satisfied: scipy>=1.6.3 in /home/ahtesham/anaconda3/lib/python3.9/site-packages (from mne) (1.10.1)\n",
      "Requirement already satisfied: tqdm in /home/ahtesham/anaconda3/lib/python3.9/site-packages (from mne) (4.65.0)\n",
      "Requirement already satisfied: matplotlib in /home/ahtesham/anaconda3/lib/python3.9/site-packages (from mne) (3.7.1)\n",
      "Requirement already satisfied: jinja2 in /home/ahtesham/anaconda3/lib/python3.9/site-packages (from mne) (3.1.2)\n",
      "Requirement already satisfied: packaging in /home/ahtesham/anaconda3/lib/python3.9/site-packages (from mne) (23.0)\n",
      "Requirement already satisfied: requests>=2.19.0 in /home/ahtesham/anaconda3/lib/python3.9/site-packages (from pooch>=1.5->mne) (2.29.0)\n",
      "Requirement already satisfied: platformdirs>=2.5.0 in /home/ahtesham/anaconda3/lib/python3.9/site-packages (from pooch>=1.5->mne) (2.5.2)\n",
      "Requirement already satisfied: MarkupSafe>=2.0 in /home/ahtesham/anaconda3/lib/python3.9/site-packages (from jinja2->mne) (2.1.1)\n",
      "Requirement already satisfied: pillow>=6.2.0 in /home/ahtesham/anaconda3/lib/python3.9/site-packages (from matplotlib->mne) (9.4.0)\n",
      "Requirement already satisfied: importlib-resources>=3.2.0 in /home/ahtesham/anaconda3/lib/python3.9/site-packages (from matplotlib->mne) (5.2.0)\n",
      "Requirement already satisfied: pyparsing>=2.3.1 in /home/ahtesham/anaconda3/lib/python3.9/site-packages (from matplotlib->mne) (3.0.9)\n",
      "Requirement already satisfied: contourpy>=1.0.1 in /home/ahtesham/anaconda3/lib/python3.9/site-packages (from matplotlib->mne) (1.0.5)\n",
      "Requirement already satisfied: kiwisolver>=1.0.1 in /home/ahtesham/anaconda3/lib/python3.9/site-packages (from matplotlib->mne) (1.4.4)\n",
      "Requirement already satisfied: cycler>=0.10 in /home/ahtesham/anaconda3/lib/python3.9/site-packages (from matplotlib->mne) (0.11.0)\n",
      "Requirement already satisfied: fonttools>=4.22.0 in /home/ahtesham/anaconda3/lib/python3.9/site-packages (from matplotlib->mne) (4.25.0)\n",
      "Requirement already satisfied: python-dateutil>=2.7 in /home/ahtesham/anaconda3/lib/python3.9/site-packages (from matplotlib->mne) (2.8.2)\n",
      "Requirement already satisfied: zipp>=3.1.0 in /home/ahtesham/anaconda3/lib/python3.9/site-packages (from importlib-resources>=3.2.0->matplotlib->mne) (3.11.0)\n",
      "Requirement already satisfied: six>=1.5 in /home/ahtesham/anaconda3/lib/python3.9/site-packages (from python-dateutil>=2.7->matplotlib->mne) (1.16.0)\n",
      "Requirement already satisfied: certifi>=2017.4.17 in /home/ahtesham/anaconda3/lib/python3.9/site-packages (from requests>=2.19.0->pooch>=1.5->mne) (2023.5.7)\n",
      "Requirement already satisfied: idna<4,>=2.5 in /home/ahtesham/anaconda3/lib/python3.9/site-packages (from requests>=2.19.0->pooch>=1.5->mne) (3.4)\n",
      "Requirement already satisfied: urllib3<1.27,>=1.21.1 in /home/ahtesham/anaconda3/lib/python3.9/site-packages (from requests>=2.19.0->pooch>=1.5->mne) (1.26.15)\n",
      "Requirement already satisfied: charset-normalizer<4,>=2 in /home/ahtesham/anaconda3/lib/python3.9/site-packages (from requests>=2.19.0->pooch>=1.5->mne) (2.0.4)\n",
      "\u001b[33mWARNING: Ignoring invalid distribution -rpcio (/home/ahtesham/anaconda3/lib/python3.9/site-packages)\u001b[0m\u001b[33m\n",
      "\u001b[0m\u001b[33mWARNING: Ignoring invalid distribution -rpcio (/home/ahtesham/anaconda3/lib/python3.9/site-packages)\u001b[0m\u001b[33m\n",
      "\u001b[0m\u001b[33mWARNING: Ignoring invalid distribution -rpcio (/home/ahtesham/anaconda3/lib/python3.9/site-packages)\u001b[0m\u001b[33m\n",
      "\u001b[0m\u001b[33mWARNING: Ignoring invalid distribution -rpcio (/home/ahtesham/anaconda3/lib/python3.9/site-packages)\u001b[0m\u001b[33m\n",
      "\u001b[0m"
     ]
    }
   ],
   "source": [
    "!pip install pyEDFlib\n",
    "!pip install mne"
   ]
  },
  {
   "cell_type": "code",
   "execution_count": null,
   "id": "d33211b1-27bf-417d-91c0-213491449070",
   "metadata": {},
   "outputs": [],
   "source": [
    "import mne\n",
    "import pandas as pd"
   ]
  },
  {
   "cell_type": "code",
   "execution_count": 6,
   "id": "fa118ff5-7f09-4926-b797-5db959164bd2",
   "metadata": {},
   "outputs": [
    {
     "name": "stdout",
     "output_type": "stream",
     "text": [
      "Extracting EDF parameters from /home/ahtesham/Github/EDF/SN001.edf...\n",
      "EDF file detected\n",
      "Setting channel info structure...\n",
      "Creating raw.info structure...\n"
     ]
    },
    {
     "data": {
      "text/html": [
       "<div>\n",
       "<style scoped>\n",
       "    .dataframe tbody tr th:only-of-type {\n",
       "        vertical-align: middle;\n",
       "    }\n",
       "\n",
       "    .dataframe tbody tr th {\n",
       "        vertical-align: top;\n",
       "    }\n",
       "\n",
       "    .dataframe thead th {\n",
       "        text-align: right;\n",
       "    }\n",
       "</style>\n",
       "<table border=\"1\" class=\"dataframe\">\n",
       "  <thead>\n",
       "    <tr style=\"text-align: right;\">\n",
       "      <th></th>\n",
       "      <th>time</th>\n",
       "      <th>EEG F4-M1</th>\n",
       "      <th>EEG C4-M1</th>\n",
       "      <th>EEG O2-M1</th>\n",
       "      <th>EEG C3-M2</th>\n",
       "      <th>EMG chin</th>\n",
       "      <th>EOG E1-M2</th>\n",
       "      <th>EOG E2-M2</th>\n",
       "      <th>ECG</th>\n",
       "    </tr>\n",
       "  </thead>\n",
       "  <tbody>\n",
       "    <tr>\n",
       "      <th>0</th>\n",
       "      <td>0.000000</td>\n",
       "      <td>17.126726</td>\n",
       "      <td>14.758526</td>\n",
       "      <td>38.342870</td>\n",
       "      <td>5.896086</td>\n",
       "      <td>-4.528878</td>\n",
       "      <td>3.747616</td>\n",
       "      <td>-9.289693</td>\n",
       "      <td>73.719387</td>\n",
       "    </tr>\n",
       "    <tr>\n",
       "      <th>1</th>\n",
       "      <td>0.003906</td>\n",
       "      <td>18.225376</td>\n",
       "      <td>15.564202</td>\n",
       "      <td>37.122148</td>\n",
       "      <td>5.456626</td>\n",
       "      <td>1.403830</td>\n",
       "      <td>10.998703</td>\n",
       "      <td>-10.901045</td>\n",
       "      <td>70.936141</td>\n",
       "    </tr>\n",
       "    <tr>\n",
       "      <th>2</th>\n",
       "      <td>0.007812</td>\n",
       "      <td>17.590600</td>\n",
       "      <td>10.632486</td>\n",
       "      <td>24.109255</td>\n",
       "      <td>7.580682</td>\n",
       "      <td>0.231937</td>\n",
       "      <td>21.643397</td>\n",
       "      <td>-9.509422</td>\n",
       "      <td>69.398032</td>\n",
       "    </tr>\n",
       "    <tr>\n",
       "      <th>3</th>\n",
       "      <td>0.011719</td>\n",
       "      <td>10.949874</td>\n",
       "      <td>2.941939</td>\n",
       "      <td>13.000687</td>\n",
       "      <td>6.433204</td>\n",
       "      <td>-0.231937</td>\n",
       "      <td>27.405203</td>\n",
       "      <td>-11.413748</td>\n",
       "      <td>65.149920</td>\n",
       "    </tr>\n",
       "    <tr>\n",
       "      <th>4</th>\n",
       "      <td>0.015625</td>\n",
       "      <td>5.822843</td>\n",
       "      <td>1.647974</td>\n",
       "      <td>18.030060</td>\n",
       "      <td>3.381399</td>\n",
       "      <td>2.868696</td>\n",
       "      <td>26.306554</td>\n",
       "      <td>-14.612039</td>\n",
       "      <td>57.605859</td>\n",
       "    </tr>\n",
       "  </tbody>\n",
       "</table>\n",
       "</div>"
      ],
      "text/plain": [
       "       time  EEG F4-M1  EEG C4-M1  EEG O2-M1  EEG C3-M2  EMG chin  EOG E1-M2  \\\n",
       "0  0.000000  17.126726  14.758526  38.342870   5.896086 -4.528878   3.747616   \n",
       "1  0.003906  18.225376  15.564202  37.122148   5.456626  1.403830  10.998703   \n",
       "2  0.007812  17.590600  10.632486  24.109255   7.580682  0.231937  21.643397   \n",
       "3  0.011719  10.949874   2.941939  13.000687   6.433204 -0.231937  27.405203   \n",
       "4  0.015625   5.822843   1.647974  18.030060   3.381399  2.868696  26.306554   \n",
       "\n",
       "   EOG E2-M2        ECG  \n",
       "0  -9.289693  73.719387  \n",
       "1 -10.901045  70.936141  \n",
       "2  -9.509422  69.398032  \n",
       "3 -11.413748  65.149920  \n",
       "4 -14.612039  57.605859  "
      ]
     },
     "execution_count": 6,
     "metadata": {},
     "output_type": "execute_result"
    }
   ],
   "source": [
    "# Read the EDF file\n",
    "filename = \"SN001.edf\"\n",
    "raw = mne.io.read_raw_edf(filename)\n",
    "\n",
    "# Convert EEG data to a pandas DataFrame\n",
    "eeg_data = raw.to_data_frame()\n",
    "\n",
    "# Print the DataFrame\n",
    "eeg_data.head()\n"
   ]
  },
  {
   "cell_type": "code",
   "execution_count": 7,
   "id": "22ef2735-2262-4891-b2c8-326c38337734",
   "metadata": {},
   "outputs": [
    {
     "data": {
      "text/plain": [
       "(6566400, 9)"
      ]
     },
     "execution_count": 7,
     "metadata": {},
     "output_type": "execute_result"
    }
   ],
   "source": [
    "eeg_data.shape"
   ]
  },
  {
   "cell_type": "code",
   "execution_count": 2,
   "id": "4618be82-b73b-4c09-9708-68fd38d5de39",
   "metadata": {},
   "outputs": [
    {
     "name": "stdout",
     "output_type": "stream",
     "text": [
      "[array([ 1.71267262e+01,  1.82253758e+01,  1.75906004e+01, ...,\n",
      "       -1.22072175e-02, -1.22072175e-02, -1.22072175e-02]), array([ 1.47585260e+01,  1.55642023e+01,  1.06324865e+01, ...,\n",
      "       -1.22072175e-02, -1.22072175e-02, -1.22072175e-02]), array([ 3.83428702e+01,  3.71221485e+01,  2.41092546e+01, ...,\n",
      "       -1.22072175e-02, -1.22072175e-02, -1.22072175e-02]), array([ 5.89608606,  5.45662623,  7.58068208, ..., -0.01220722,\n",
      "       -0.01220722, -0.01220722]), array([-4.5288777 ,  1.40383001,  0.23193713, ..., -0.01220722,\n",
      "       -0.01220722, -0.01220722]), array([ 3.74761578e+00,  1.09987030e+01,  2.16433967e+01, ...,\n",
      "       -1.22072175e-02, -1.22072175e-02, -1.22072175e-02]), array([ -9.28969253, -10.90104524,  -9.50942245, ...,  -0.01220722,\n",
      "        -0.01220722,  -0.01220722]), array([ 7.37193866e+01,  7.09361410e+01,  6.93980316e+01, ...,\n",
      "       -3.66216526e-02, -3.66216526e-02, -3.66216526e-02])]\n"
     ]
    }
   ],
   "source": [
    "import pyedflib\n",
    "\n",
    "# Open the EDF file\n",
    "filename = \"SN001.edf\"\n",
    "edf_file = pyedflib.EdfReader(filename)\n",
    "\n",
    "# Get the number of signals (channels) in the file\n",
    "num_signals = edf_file.signals_in_file\n",
    "\n",
    "# Get the signal labels\n",
    "signal_labels = edf_file.getSignalLabels()\n",
    "\n",
    "# Read the signals\n",
    "signals = []\n",
    "for i in range(num_signals):\n",
    "    signal = edf_file.readSignal(i)\n",
    "    signals.append(signal)\n",
    "\n",
    "# Get the sample frequency of the signals\n",
    "sample_frequency = edf_file.getSampleFrequency(0)  # Assuming all signals have the same frequency, so using the first one\n",
    "\n",
    "print(signals)\n",
    "# Close the EDF file\n",
    "edf_file.close()\n"
   ]
  },
  {
   "cell_type": "code",
   "execution_count": 2,
   "id": "289e3e1d-ba90-421c-a28d-98ad6e6361a9",
   "metadata": {},
   "outputs": [
    {
     "name": "stdout",
     "output_type": "stream",
     "text": [
      "\u001b[33mWARNING: Ignoring invalid distribution -rpcio (/home/ahtesham/anaconda3/lib/python3.9/site-packages)\u001b[0m\u001b[33m\n",
      "\u001b[0m\u001b[33mWARNING: Ignoring invalid distribution -rpcio (/home/ahtesham/anaconda3/lib/python3.9/site-packages)\u001b[0m\u001b[33m\n",
      "\u001b[0mCollecting mne\n",
      "  Downloading mne-1.4.0-py3-none-any.whl (7.7 MB)\n",
      "\u001b[2K     \u001b[90m━━━━━━━━━━━━━━━━━━━━━━━━━━━━━━━━━━━━━━━━\u001b[0m \u001b[32m7.7/7.7 MB\u001b[0m \u001b[31m456.7 kB/s\u001b[0m eta \u001b[36m0:00:00\u001b[0m00:01\u001b[0m00:01\u001b[0m\n",
      "\u001b[?25hRequirement already satisfied: packaging in /home/ahtesham/anaconda3/lib/python3.9/site-packages (from mne) (23.0)\n",
      "Requirement already satisfied: decorator in /home/ahtesham/anaconda3/lib/python3.9/site-packages (from mne) (5.1.1)\n",
      "Requirement already satisfied: matplotlib in /home/ahtesham/anaconda3/lib/python3.9/site-packages (from mne) (3.7.1)\n",
      "Collecting pooch>=1.5\n",
      "  Downloading pooch-1.7.0-py3-none-any.whl (60 kB)\n",
      "\u001b[2K     \u001b[90m━━━━━━━━━━━━━━━━━━━━━━━━━━━━━━━━━━━━━━━\u001b[0m \u001b[32m60.9/60.9 kB\u001b[0m \u001b[31m360.4 kB/s\u001b[0m eta \u001b[36m0:00:00\u001b[0ma \u001b[36m0:00:01\u001b[0m\n",
      "\u001b[?25hRequirement already satisfied: tqdm in /home/ahtesham/anaconda3/lib/python3.9/site-packages (from mne) (4.65.0)\n",
      "Requirement already satisfied: numpy>=1.15.4 in /home/ahtesham/anaconda3/lib/python3.9/site-packages (from mne) (1.24.3)\n",
      "Requirement already satisfied: scipy>=1.6.3 in /home/ahtesham/anaconda3/lib/python3.9/site-packages (from mne) (1.10.1)\n",
      "Requirement already satisfied: jinja2 in /home/ahtesham/anaconda3/lib/python3.9/site-packages (from mne) (3.1.2)\n",
      "Requirement already satisfied: requests>=2.19.0 in /home/ahtesham/anaconda3/lib/python3.9/site-packages (from pooch>=1.5->mne) (2.29.0)\n",
      "Requirement already satisfied: platformdirs>=2.5.0 in /home/ahtesham/anaconda3/lib/python3.9/site-packages (from pooch>=1.5->mne) (2.5.2)\n",
      "Requirement already satisfied: MarkupSafe>=2.0 in /home/ahtesham/anaconda3/lib/python3.9/site-packages (from jinja2->mne) (2.1.1)\n",
      "Requirement already satisfied: cycler>=0.10 in /home/ahtesham/anaconda3/lib/python3.9/site-packages (from matplotlib->mne) (0.11.0)\n",
      "Requirement already satisfied: kiwisolver>=1.0.1 in /home/ahtesham/anaconda3/lib/python3.9/site-packages (from matplotlib->mne) (1.4.4)\n",
      "Requirement already satisfied: contourpy>=1.0.1 in /home/ahtesham/anaconda3/lib/python3.9/site-packages (from matplotlib->mne) (1.0.5)\n",
      "Requirement already satisfied: python-dateutil>=2.7 in /home/ahtesham/anaconda3/lib/python3.9/site-packages (from matplotlib->mne) (2.8.2)\n",
      "Requirement already satisfied: importlib-resources>=3.2.0 in /home/ahtesham/anaconda3/lib/python3.9/site-packages (from matplotlib->mne) (5.2.0)\n",
      "Requirement already satisfied: pyparsing>=2.3.1 in /home/ahtesham/anaconda3/lib/python3.9/site-packages (from matplotlib->mne) (3.0.9)\n",
      "Requirement already satisfied: pillow>=6.2.0 in /home/ahtesham/anaconda3/lib/python3.9/site-packages (from matplotlib->mne) (9.4.0)\n",
      "Requirement already satisfied: fonttools>=4.22.0 in /home/ahtesham/anaconda3/lib/python3.9/site-packages (from matplotlib->mne) (4.25.0)\n",
      "Requirement already satisfied: zipp>=3.1.0 in /home/ahtesham/anaconda3/lib/python3.9/site-packages (from importlib-resources>=3.2.0->matplotlib->mne) (3.11.0)\n",
      "Requirement already satisfied: six>=1.5 in /home/ahtesham/anaconda3/lib/python3.9/site-packages (from python-dateutil>=2.7->matplotlib->mne) (1.16.0)\n",
      "Requirement already satisfied: idna<4,>=2.5 in /home/ahtesham/anaconda3/lib/python3.9/site-packages (from requests>=2.19.0->pooch>=1.5->mne) (3.4)\n",
      "Requirement already satisfied: urllib3<1.27,>=1.21.1 in /home/ahtesham/anaconda3/lib/python3.9/site-packages (from requests>=2.19.0->pooch>=1.5->mne) (1.26.15)\n",
      "Requirement already satisfied: charset-normalizer<4,>=2 in /home/ahtesham/anaconda3/lib/python3.9/site-packages (from requests>=2.19.0->pooch>=1.5->mne) (2.0.4)\n",
      "Requirement already satisfied: certifi>=2017.4.17 in /home/ahtesham/anaconda3/lib/python3.9/site-packages (from requests>=2.19.0->pooch>=1.5->mne) (2023.5.7)\n",
      "\u001b[33mWARNING: Ignoring invalid distribution -rpcio (/home/ahtesham/anaconda3/lib/python3.9/site-packages)\u001b[0m\u001b[33m\n",
      "\u001b[0mInstalling collected packages: pooch, mne\n",
      "  Attempting uninstall: pooch\n",
      "\u001b[33m    WARNING: Ignoring invalid distribution -rpcio (/home/ahtesham/anaconda3/lib/python3.9/site-packages)\u001b[0m\u001b[33m\n",
      "\u001b[0m    Found existing installation: pooch 1.4.0\n",
      "    Uninstalling pooch-1.4.0:\n",
      "      Successfully uninstalled pooch-1.4.0\n",
      "\u001b[33mWARNING: Ignoring invalid distribution -rpcio (/home/ahtesham/anaconda3/lib/python3.9/site-packages)\u001b[0m\u001b[33m\n",
      "\u001b[0m\u001b[33mWARNING: Ignoring invalid distribution -rpcio (/home/ahtesham/anaconda3/lib/python3.9/site-packages)\u001b[0m\u001b[33m\n",
      "\u001b[0mSuccessfully installed mne-1.4.0 pooch-1.7.0\n",
      "\u001b[33mWARNING: Ignoring invalid distribution -rpcio (/home/ahtesham/anaconda3/lib/python3.9/site-packages)\u001b[0m\u001b[33m\n",
      "\u001b[0m\u001b[33mWARNING: Ignoring invalid distribution -rpcio (/home/ahtesham/anaconda3/lib/python3.9/site-packages)\u001b[0m\u001b[33m\n",
      "\u001b[0m\u001b[33mWARNING: Ignoring invalid distribution -rpcio (/home/ahtesham/anaconda3/lib/python3.9/site-packages)\u001b[0m\u001b[33m\n",
      "\u001b[0m"
     ]
    }
   ],
   "source": []
  },
  {
   "cell_type": "code",
   "execution_count": 34,
   "id": "e49df569-b8b3-4a6d-9597-752bfc68f010",
   "metadata": {},
   "outputs": [
    {
     "name": "stdout",
     "output_type": "stream",
     "text": [
      "Extracting EDF parameters from /home/ahtesham/Github/EDF/SN001.edf...\n",
      "EDF file detected\n",
      "Setting channel info structure...\n",
      "Creating raw.info structure...\n"
     ]
    },
    {
     "ename": "NameError",
     "evalue": "name 'ECG' is not defined",
     "output_type": "error",
     "traceback": [
      "\u001b[0;31m---------------------------------------------------------------------------\u001b[0m",
      "\u001b[0;31mNameError\u001b[0m                                 Traceback (most recent call last)",
      "Cell \u001b[0;32mIn[35], line 6\u001b[0m\n\u001b[1;32m      4\u001b[0m \u001b[38;5;66;03m# you can get the metadata included in the file and a list of all channels:\u001b[39;00m\n\u001b[1;32m      5\u001b[0m info \u001b[38;5;241m=\u001b[39m data\u001b[38;5;241m.\u001b[39minfo\n\u001b[0;32m----> 6\u001b[0m channels \u001b[38;5;241m=\u001b[39m data[\u001b[43mECG\u001b[49m]\n",
      "\u001b[0;31mNameError\u001b[0m: name 'ECG' is not defined"
     ]
    }
   ],
   "source": [
    "file = \"SN001.edf\"\n",
    "data = mne.io.read_raw_edf(file)\n",
    "raw_data = data.get_data()\n",
    "# you can get the metadata included in the file and a list of all channels:\n",
    "info = data.info\n",
    "channels = data.ECG"
   ]
  },
  {
   "cell_type": "code",
   "execution_count": 32,
   "id": "1012c6b9-6327-44c5-91fd-df094c11e57b",
   "metadata": {},
   "outputs": [
    {
     "name": "stdout",
     "output_type": "stream",
     "text": [
      "['EEG F4-M1', 'EEG C4-M1', 'EEG O2-M1', 'EEG C3-M2', 'EMG chin', 'EOG E1-M2', 'EOG E2-M2', 'ECG']\n"
     ]
    }
   ],
   "source": [
    "channels = info[\"ch_names\"]\n",
    "\n",
    "# Print the list of channels\n",
    "print(channels)"
   ]
  },
  {
   "cell_type": "code",
   "execution_count": null,
   "id": "912a3ad0-cb52-4dc8-9f95-1ed63f2aaa46",
   "metadata": {},
   "outputs": [],
   "source": []
  }
 ],
 "metadata": {
  "kernelspec": {
   "display_name": "Python 3 (ipykernel)",
   "language": "python",
   "name": "python3"
  },
  "language_info": {
   "codemirror_mode": {
    "name": "ipython",
    "version": 3
   },
   "file_extension": ".py",
   "mimetype": "text/x-python",
   "name": "python",
   "nbconvert_exporter": "python",
   "pygments_lexer": "ipython3",
   "version": "3.9.16"
  }
 },
 "nbformat": 4,
 "nbformat_minor": 5
}
