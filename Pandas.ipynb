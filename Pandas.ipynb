{
  "nbformat": 4,
  "nbformat_minor": 0,
  "metadata": {
    "colab": {
      "provenance": [],
      "authorship_tag": "ABX9TyOFUYNJbFRDwgq6xgW02pmw",
      "include_colab_link": true
    },
    "kernelspec": {
      "name": "python3",
      "display_name": "Python 3"
    },
    "language_info": {
      "name": "python"
    }
  },
  "cells": [
    {
      "cell_type": "markdown",
      "metadata": {
        "id": "view-in-github",
        "colab_type": "text"
      },
      "source": [
        "<a href=\"https://colab.research.google.com/github/Ahtesham-Ibne-Mostafa/Data_Genesis/blob/main/Pandas.ipynb\" target=\"_parent\"><img src=\"https://colab.research.google.com/assets/colab-badge.svg\" alt=\"Open In Colab\"/></a>"
      ]
    },
    {
      "cell_type": "code",
      "execution_count": 1,
      "metadata": {
        "id": "alpbtphmX2xd"
      },
      "outputs": [],
      "source": [
        "import pandas as pd"
      ]
    },
    {
      "cell_type": "code",
      "source": [
        "dataset = pd.read_csv('/content/banking.csv')"
      ],
      "metadata": {
        "id": "FkX5vRwiYoXQ"
      },
      "execution_count": 2,
      "outputs": []
    },
    {
      "cell_type": "code",
      "source": [
        "dataset.tail(3)"
      ],
      "metadata": {
        "id": "5BMeXYClZCHN"
      },
      "execution_count": null,
      "outputs": []
    },
    {
      "cell_type": "code",
      "source": [
        "# Task 2\n",
        "\n",
        "data = {'name':['a','b','c','d','e'],\n",
        "'age': [20,17,32,45,15]}\n",
        "df = pd.DataFrame(data)\n",
        "df.describe()"
      ],
      "metadata": {
        "id": "-Sh2IbweZKh_"
      },
      "execution_count": null,
      "outputs": []
    },
    {
      "cell_type": "code",
      "source": [
        "# Task 3\n",
        "\n",
        "data = {'name':['a','b','c','d','e'],\n",
        "'age': [71,17,32,45,15],\n",
        "\n",
        "}\n",
        "df = pd.DataFrame(data)\n",
        "df['adult'] = df['age'].apply(lambda x: 'yes' if x > 18 else 'no')\n",
        "\n",
        "df.head()"
      ],
      "metadata": {
        "id": "_9GmezrQbazA"
      },
      "execution_count": null,
      "outputs": []
    },
    {
      "cell_type": "code",
      "source": [
        "# Task 4\n",
        "\n",
        "df['adult'] = df['adult'].apply(lambda x: '1' if x == 'yes' else '0')\n",
        "\n",
        "df .head()"
      ],
      "metadata": {
        "id": "OACD_lN2cM20"
      },
      "execution_count": null,
      "outputs": []
    },
    {
      "cell_type": "code",
      "source": [
        "# Task 5\n",
        "\n",
        "data = pd.DataFrame({'color': ['red', 'blue', 'green', 'blue', 'red']})\n",
        "\n",
        "data = pd.get_dummies(data['color'])\n",
        "data.columns = ['color_' + col for col in data.columns]\n",
        "\n",
        "print(data)"
      ],
      "metadata": {
        "id": "oPrGS_x7c_Lh"
      },
      "execution_count": null,
      "outputs": []
    },
    {
      "cell_type": "code",
      "source": [
        "dataset.head()"
      ],
      "metadata": {
        "id": "OMcvN4vuo3jc"
      },
      "execution_count": null,
      "outputs": []
    },
    {
      "cell_type": "code",
      "source": [
        "# Task 6          dataset is from task 1\n",
        "\n",
        "loans = len(dataset[(dataset['marital'] == 'married') & (dataset['loan'] == 'yes')])\n",
        "\n",
        "print(loans)\n"
      ],
      "metadata": {
        "colab": {
          "base_uri": "https://localhost:8080/"
        },
        "id": "DPzppa_sdw-c",
        "outputId": "1763507f-da02-4f3d-c782-83e0ea2c6425"
      },
      "execution_count": 56,
      "outputs": [
        {
          "output_type": "stream",
          "name": "stdout",
          "text": [
            "3773\n"
          ]
        }
      ]
    },
    {
      "cell_type": "code",
      "source": [
        "# Task 7\n",
        "\n",
        "Data = {'name':['A','B','C','D','E','F','G','H'],\n",
        "'selary': ['10020',None,'15500',None,None,'18200','25300','12500']}\n",
        "\n",
        "df = pd.DataFrame(Data)\n",
        "\n",
        "df['selary'] = pd.to_numeric(df['selary'], errors='coerce')\n",
        "\n",
        "average=df.describe()['selary'][1]\n",
        "\n",
        "df['selary'].fillna(average, inplace=True)\n",
        "\n",
        "print(df)"
      ],
      "metadata": {
        "id": "iKmGX6i9n54q"
      },
      "execution_count": null,
      "outputs": []
    },
    {
      "cell_type": "code",
      "source": [
        "# Task 8            dataset is from task 1\n",
        "\n",
        "marriage_age = dataset[dataset['marital'] == 'married']['age'].min()\n",
        "print('married age :',marriage_age)\n",
        "loan_age = dataset[dataset['loan'] == 'yes']['age'].min()\n",
        "print('Loan age :', loan_age)"
      ],
      "metadata": {
        "id": "-dw2BcOfqYSZ"
      },
      "execution_count": null,
      "outputs": []
    },
    {
      "cell_type": "code",
      "source": [
        "# Task 9\n",
        "\n",
        "dataset.head()\n",
        "\n",
        "count = len(dataset[(dataset['marital'].isin(['single', 'divorced'])) & (dataset['loan'] == 'yes')])\n",
        "\n",
        "divorce_rate = (len(dataset[dataset['marital'] == 'divorced']) / len(dataset) )* 100\n",
        "\n",
        "print(count)\n",
        "\n",
        "print('Divorce rate :', divorce_rate)"
      ],
      "metadata": {
        "id": "Sk-2pg1qq9O4"
      },
      "execution_count": null,
      "outputs": []
    }
  ]
}