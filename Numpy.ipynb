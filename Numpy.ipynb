{
  "nbformat": 4,
  "nbformat_minor": 0,
  "metadata": {
    "colab": {
      "provenance": [],
      "authorship_tag": "ABX9TyN2y+eWxTbKYeNcOt1RfO2c",
      "include_colab_link": true
    },
    "kernelspec": {
      "name": "python3",
      "display_name": "Python 3"
    },
    "language_info": {
      "name": "python"
    }
  },
  "cells": [
    {
      "cell_type": "markdown",
      "metadata": {
        "id": "view-in-github",
        "colab_type": "text"
      },
      "source": [
        "<a href=\"https://colab.research.google.com/github/Ahtesham-Ibne-Mostafa/Dataset_Genesis/blob/main/Numpy.ipynb\" target=\"_parent\"><img src=\"https://colab.research.google.com/assets/colab-badge.svg\" alt=\"Open In Colab\"/></a>"
      ]
    },
    {
      "cell_type": "code",
      "execution_count": null,
      "metadata": {
        "colab": {
          "base_uri": "https://localhost:8080/"
        },
        "id": "3KyMs7U9z-aQ",
        "outputId": "a0c48041-540e-4e33-8c89-372a915f752d"
      },
      "outputs": [
        {
          "output_type": "stream",
          "name": "stdout",
          "text": [
            "Looking in indexes: https://pypi.org/simple, https://us-python.pkg.dev/colab-wheels/public/simple/\n",
            "Requirement already satisfied: numpy in /usr/local/lib/python3.10/dist-packages (1.22.4)\n"
          ]
        }
      ],
      "source": [
        "!pip install numpy\n",
        "import numpy as np"
      ]
    },
    {
      "cell_type": "code",
      "source": [
        "array=np.array([1,2,3,4])"
      ],
      "metadata": {
        "id": "hlDZ6Wo80_qo"
      },
      "execution_count": null,
      "outputs": []
    },
    {
      "cell_type": "code",
      "source": [
        "# Reshape the 1D array to a 2D array\n",
        "array = np.arange(1, 7).reshape((2, 3))\n",
        " \n",
        "print(array)"
      ],
      "metadata": {
        "colab": {
          "base_uri": "https://localhost:8080/"
        },
        "id": "i6p7g-M-1aPK",
        "outputId": "95a672b6-2b0f-40a1-e9bf-8f3a771eca6d"
      },
      "execution_count": null,
      "outputs": [
        {
          "output_type": "stream",
          "name": "stdout",
          "text": [
            "[[1 2 3]\n",
            " [4 5 6]]\n"
          ]
        }
      ]
    },
    {
      "cell_type": "code",
      "source": [
        "array=np.ones((1, 2, 3))\n",
        "print(array)"
      ],
      "metadata": {
        "colab": {
          "base_uri": "https://localhost:8080/"
        },
        "id": "TJW-eh7n1tl2",
        "outputId": "9167b6e5-4b3a-4b4a-a19b-3b326601a605"
      },
      "execution_count": null,
      "outputs": [
        {
          "output_type": "stream",
          "name": "stdout",
          "text": [
            "[[[1. 1. 1.]\n",
            "  [1. 1. 1.]]]\n"
          ]
        }
      ]
    },
    {
      "cell_type": "code",
      "source": [
        "array = np.arange(24)\n",
        "\n",
        "new_array = array.reshape((2, 3, 4))\n",
        "\n",
        "print(new_array)"
      ],
      "metadata": {
        "colab": {
          "base_uri": "https://localhost:8080/"
        },
        "id": "oUvFLRim2R0X",
        "outputId": "274b39c8-b938-4505-dc66-19a13b8bb175"
      },
      "execution_count": null,
      "outputs": [
        {
          "output_type": "stream",
          "name": "stdout",
          "text": [
            "[[[ 0  1  2  3]\n",
            "  [ 4  5  6  7]\n",
            "  [ 8  9 10 11]]\n",
            "\n",
            " [[12 13 14 15]\n",
            "  [16 17 18 19]\n",
            "  [20 21 22 23]]]\n"
          ]
        }
      ]
    },
    {
      "cell_type": "code",
      "source": [
        "array = np.linspace(0, 1, 50)\n",
        "\n",
        "print(array)"
      ],
      "metadata": {
        "colab": {
          "base_uri": "https://localhost:8080/"
        },
        "id": "vhBsqrFc4myf",
        "outputId": "9bc73d99-d124-49e1-9b23-468cba27daaa"
      },
      "execution_count": null,
      "outputs": [
        {
          "output_type": "stream",
          "name": "stdout",
          "text": [
            "[0.         0.02040816 0.04081633 0.06122449 0.08163265 0.10204082\n",
            " 0.12244898 0.14285714 0.16326531 0.18367347 0.20408163 0.2244898\n",
            " 0.24489796 0.26530612 0.28571429 0.30612245 0.32653061 0.34693878\n",
            " 0.36734694 0.3877551  0.40816327 0.42857143 0.44897959 0.46938776\n",
            " 0.48979592 0.51020408 0.53061224 0.55102041 0.57142857 0.59183673\n",
            " 0.6122449  0.63265306 0.65306122 0.67346939 0.69387755 0.71428571\n",
            " 0.73469388 0.75510204 0.7755102  0.79591837 0.81632653 0.83673469\n",
            " 0.85714286 0.87755102 0.89795918 0.91836735 0.93877551 0.95918367\n",
            " 0.97959184 1.        ]\n"
          ]
        }
      ]
    },
    {
      "cell_type": "code",
      "source": [
        "array = numpy.arange(30)\n",
        "\n",
        "new_array = array.reshape((3, 2, 5))\n",
        "\n",
        "print(new_array)"
      ],
      "metadata": {
        "colab": {
          "base_uri": "https://localhost:8080/"
        },
        "id": "CHsn7sBU52GY",
        "outputId": "65abf396-1554-454b-bce8-6fc780ba4a5c"
      },
      "execution_count": null,
      "outputs": [
        {
          "output_type": "stream",
          "name": "stdout",
          "text": [
            "[[[ 0  1  2  3  4]\n",
            "  [ 5  6  7  8  9]]\n",
            "\n",
            " [[10 11 12 13 14]\n",
            "  [15 16 17 18 19]]\n",
            "\n",
            " [[20 21 22 23 24]\n",
            "  [25 26 27 28 29]]]\n"
          ]
        }
      ]
    },
    {
      "cell_type": "code",
      "source": [
        "array = numpy.arange(1,41).reshape(5,2,4)\n",
        "\n",
        "depth , rows, cols = array.shape\n",
        "\n",
        "middle_dep = depth //2\n",
        "\n",
        "middle_col = cols //2\n",
        "\n",
        "\n",
        "array[middle_dep, :, middle_col] = 0\n",
        "array[middle_dep, :, middle_col-1] = 0\n",
        "\n",
        "print(array)"
      ],
      "metadata": {
        "colab": {
          "base_uri": "https://localhost:8080/"
        },
        "id": "uTu8M4MK6cdu",
        "outputId": "41e2a49e-8ce4-495a-b953-8196b6dce5da"
      },
      "execution_count": null,
      "outputs": [
        {
          "output_type": "stream",
          "name": "stdout",
          "text": [
            "[[[ 1  2  3  4]\n",
            "  [ 5  6  7  8]]\n",
            "\n",
            " [[ 9 10 11 12]\n",
            "  [13 14 15 16]]\n",
            "\n",
            " [[17  0  0 20]\n",
            "  [21  0  0 24]]\n",
            "\n",
            " [[25 26 27 28]\n",
            "  [29 30 31 32]]\n",
            "\n",
            " [[33 34 35 36]\n",
            "  [37 38 39 40]]]\n"
          ]
        }
      ]
    },
    {
      "cell_type": "code",
      "source": [
        "array = numpy.arange(100).reshape(5,2,2,5)\n",
        "\n",
        "array[array % 10 == 0] = 0\n",
        "\n",
        "print(array)"
      ],
      "metadata": {
        "colab": {
          "base_uri": "https://localhost:8080/"
        },
        "id": "liVkr4p_-gEz",
        "outputId": "5bec70c6-7c99-41a2-9642-2c8988c44afa"
      },
      "execution_count": 64,
      "outputs": [
        {
          "output_type": "stream",
          "name": "stdout",
          "text": [
            "[[[[ 0  1  2  3  4]\n",
            "   [ 5  6  7  8  9]]\n",
            "\n",
            "  [[ 0 11 12 13 14]\n",
            "   [15 16 17 18 19]]]\n",
            "\n",
            "\n",
            " [[[ 0 21 22 23 24]\n",
            "   [25 26 27 28 29]]\n",
            "\n",
            "  [[ 0 31 32 33 34]\n",
            "   [35 36 37 38 39]]]\n",
            "\n",
            "\n",
            " [[[ 0 41 42 43 44]\n",
            "   [45 46 47 48 49]]\n",
            "\n",
            "  [[ 0 51 52 53 54]\n",
            "   [55 56 57 58 59]]]\n",
            "\n",
            "\n",
            " [[[ 0 61 62 63 64]\n",
            "   [65 66 67 68 69]]\n",
            "\n",
            "  [[ 0 71 72 73 74]\n",
            "   [75 76 77 78 79]]]\n",
            "\n",
            "\n",
            " [[[ 0 81 82 83 84]\n",
            "   [85 86 87 88 89]]\n",
            "\n",
            "  [[ 0 91 92 93 94]\n",
            "   [95 96 97 98 99]]]]\n"
          ]
        }
      ]
    },
    {
      "cell_type": "code",
      "source": [
        "array = np.arange(24).reshape(3, 2, 4)\n",
        "\n",
        "new_array = array[array % 2 != 0]\n",
        "\n",
        "print(\"Original array:\")\n",
        "print(array)\n",
        "\n",
        "print(\"\\nNew array with odd numbers:\")\n",
        "print(new_array)"
      ],
      "metadata": {
        "id": "MpUbYeTWAgDL",
        "colab": {
          "base_uri": "https://localhost:8080/"
        },
        "outputId": "ed13090e-a847-4264-bd98-97f939208bfb"
      },
      "execution_count": 66,
      "outputs": [
        {
          "output_type": "stream",
          "name": "stdout",
          "text": [
            "Original array:\n",
            "[[[ 0  1  2  3]\n",
            "  [ 4  5  6  7]]\n",
            "\n",
            " [[ 8  9 10 11]\n",
            "  [12 13 14 15]]\n",
            "\n",
            " [[16 17 18 19]\n",
            "  [20 21 22 23]]]\n",
            "\n",
            "New array with odd numbers:\n",
            "[ 1  3  5  7  9 11 13 15 17 19 21 23]\n"
          ]
        }
      ]
    },
    {
      "cell_type": "markdown",
      "source": [
        "NumPy arrays provide a fast and convenient way to perform mathematical operations on large sets of data. They support element-wise operations, vectorization, and broadcasting, allowing efficient computations on arrays of different shapes and sizes. Powerful tools for slicing, indexing, and aggregating data, making it easy to extract and analyze specific subsets of data."
      ],
      "metadata": {
        "id": "j122ly11EznP"
      }
    },
    {
      "cell_type": "markdown",
      "source": [
        "NumPy arrays provide a foundation for linear algebra operations. They can represent vectors, matrices, and higher-dimensional tensors, enabling efficient computations such as matrix multiplication, eigenvalue calculation, and solving linear equations."
      ],
      "metadata": {
        "id": "B8S9Hz1YE2-a"
      }
    },
    {
      "cell_type": "markdown",
      "source": [
        "Images can be represented as multi-dimensional arrays, and NumPy provides functions to manipulate, transform, and analyze images efficiently."
      ],
      "metadata": {
        "id": "fNFOmbhgFGN2"
      }
    },
    {
      "cell_type": "markdown",
      "source": [
        "Can represent audio signals, time series data, or any other signal type. NumPy provides functions for signal filtering, Fourier transforms, convolution, and more."
      ],
      "metadata": {
        "id": "kn-583aTFLiV"
      }
    },
    {
      "cell_type": "code",
      "source": [],
      "metadata": {
        "id": "_gKzu2WnD0YH"
      },
      "execution_count": null,
      "outputs": []
    },
    {
      "cell_type": "markdown",
      "source": [
        "Numpy can only store elements of the same data type. In contrast, Python lists can contain elements of different data types.\n",
        "NumPy arrays are more memory-efficient compared to Python lists. \n",
        "NumPy arrays offer better performance for numerical operations and computations compared to Python lists.\n",
        "NumPy arrays come with a wide range of built-in functions and methods for mathematical operations, array manipulation, and linear algebra. Python lists have a more limited set of built-in functions and methods.\n",
        "The wider SciPy ecosystem, includes NumPy as a component. Libraries for data visualization, machine learning, optimization, and other topics are included in this ecosystem. This robust infrastructure designed for scientific computing does not exist in Python lists."
      ],
      "metadata": {
        "id": "8CqggC8NFVj_"
      }
    },
    {
      "cell_type": "code",
      "source": [],
      "metadata": {
        "id": "XsNo0TGLFZIW"
      },
      "execution_count": null,
      "outputs": []
    }
  ]
}