{
  "cells": [
    {
      "cell_type": "markdown",
      "metadata": {
        "id": "view-in-github",
        "colab_type": "text"
      },
      "source": [
        "<a href=\"https://colab.research.google.com/github/Ahtesham-Ibne-Mostafa/Dataset_Genesis/blob/main/Youtube_playlist.ipynb\" target=\"_parent\"><img src=\"https://colab.research.google.com/assets/colab-badge.svg\" alt=\"Open In Colab\"/></a>"
      ]
    },
    {
      "cell_type": "code",
      "execution_count": null,
      "id": "52faf1fe",
      "metadata": {
        "id": "52faf1fe"
      },
      "outputs": [],
      "source": [
        "import pandas as pd"
      ]
    },
    {
      "cell_type": "code",
      "execution_count": null,
      "id": "f61f25f9",
      "metadata": {
        "id": "f61f25f9"
      },
      "outputs": [],
      "source": [
        "df = pd.DataFrame({'Title': [],'Views': [],'Duration':[],'Comment_count':[],'Upload_date':[],'Author':[],'Likes':[],'Dislikes':[]})"
      ]
    },
    {
      "cell_type": "code",
      "execution_count": null,
      "id": "11aec9a9",
      "metadata": {
        "id": "11aec9a9",
        "outputId": "7836ca74-4303-4c7a-c3cd-bb828ce45190"
      },
      "outputs": [
        {
          "name": "stdout",
          "output_type": "stream",
          "text": [
            "Requirement already satisfied: yt_dlp in c:\\programdata\\anaconda3\\lib\\site-packages (2023.3.4)\n",
            "Requirement already satisfied: certifi in c:\\programdata\\anaconda3\\lib\\site-packages (from yt_dlp) (2022.9.14)\n",
            "Requirement already satisfied: brotli in c:\\programdata\\anaconda3\\lib\\site-packages (from yt_dlp) (1.0.9)\n",
            "Requirement already satisfied: websockets in c:\\programdata\\anaconda3\\lib\\site-packages (from yt_dlp) (11.0.2)\n",
            "Requirement already satisfied: mutagen in c:\\programdata\\anaconda3\\lib\\site-packages (from yt_dlp) (1.46.0)\n",
            "Requirement already satisfied: pycryptodomex in c:\\programdata\\anaconda3\\lib\\site-packages (from yt_dlp) (3.17)\n"
          ]
        }
      ],
      "source": [
        "!pip install yt_dlp\n"
      ]
    },
    {
      "cell_type": "code",
      "execution_count": null,
      "id": "76ec66bc",
      "metadata": {
        "id": "76ec66bc"
      },
      "outputs": [],
      "source": [
        "def youtube(link):\n",
        "\n",
        "    import yt_dlp\n",
        "\n",
        "    # Replace the URL below with the URL of the YouTube video you want to analyze\n",
        "    video_url = link\n",
        "\n",
        "    # Create a `yt_dlp` instance\n",
        "    ydl = yt_dlp.YoutubeDL({'ignoreerrors': True})\n",
        "\n",
        "    # Extract video metadata\n",
        "\n",
        "    info_dict = ydl.extract_info(video_url, download=False, process=False)\n",
        "    # Extract the desired information\n",
        "    title = info_dict.get('title', '')\n",
        "    views = info_dict.get('view_count', 0)\n",
        "    duration = info_dict.get('duration', 0)\n",
        "    comment_count = info_dict.get('comment_count', 0)\n",
        "    upload_date = info_dict.get('upload_date', '')\n",
        "    author = info_dict.get('uploader', '')\n",
        "    likes = info_dict.get('like_count', 0)\n",
        "    dislikes = info_dict.get('dislike_count', 0)\n",
        "\n",
        "\n",
        "    lst=[title,views,duration,comment_count,upload_date,author,likes,dislikes]\n",
        "\n",
        "    return lst"
      ]
    },
    {
      "cell_type": "code",
      "execution_count": null,
      "id": "58a0192a",
      "metadata": {
        "id": "58a0192a",
        "outputId": "dbd87d8e-5cb3-4d0a-db4f-68666bd861fe"
      },
      "outputs": [
        {
          "name": "stdout",
          "output_type": "stream",
          "text": [
            "[youtube:tab] Extracting URL: https://youtube.com/playlist?list=PLhQjrBD2T3817j24-GogXmWqO5Q5vYy0V\n",
            "[youtube:tab] PLhQjrBD2T3817j24-GogXmWqO5Q5vYy0V: Downloading webpage\n",
            "[youtube:tab] PLhQjrBD2T3817j24-GogXmWqO5Q5vYy0V: Redownloading playlist API JSON with unavailable videos\n",
            "[download] Downloading playlist: CS50's Introduction to Programming with Python (CS50P) 2022\n",
            "[youtube:tab] Playlist CS50's Introduction to Programming with Python (CS50P) 2022: Downloading 14 items of 14\n",
            "[download] Downloading item 1 of 14\n",
            "[youtube] Extracting URL: https://www.youtube.com/watch?v=OvKCESUCWII\n",
            "[youtube] OvKCESUCWII: Downloading webpage\n",
            "[youtube] OvKCESUCWII: Downloading android player API JSON\n",
            "[download] Downloading item 2 of 14\n",
            "[youtube] Extracting URL: https://www.youtube.com/watch?v=JP7ITIXGpHk\n",
            "[youtube] JP7ITIXGpHk: Downloading webpage\n",
            "[youtube] JP7ITIXGpHk: Downloading android player API JSON\n",
            "[download] Downloading item 3 of 14\n",
            "[youtube] Extracting URL: https://www.youtube.com/watch?v=Oi1lvJS4uS8\n",
            "[youtube] Oi1lvJS4uS8: Downloading webpage\n",
            "[youtube] Oi1lvJS4uS8: Downloading android player API JSON\n",
            "[download] Downloading item 4 of 14\n",
            "[youtube] Extracting URL: https://www.youtube.com/watch?v=_b6NgY_pMdw\n",
            "[youtube] _b6NgY_pMdw: Downloading webpage\n",
            "[youtube] _b6NgY_pMdw: Downloading android player API JSON\n",
            "[download] Downloading item 5 of 14\n",
            "[youtube] Extracting URL: https://www.youtube.com/watch?v=-7xg8pGcP6w\n",
            "[youtube] -7xg8pGcP6w: Downloading webpage\n",
            "[youtube] -7xg8pGcP6w: Downloading android player API JSON\n",
            "[download] Downloading item 6 of 14\n",
            "[youtube] Extracting URL: https://www.youtube.com/watch?v=LW7g1169v7w\n",
            "[youtube] LW7g1169v7w: Downloading webpage\n",
            "[youtube] LW7g1169v7w: Downloading android player API JSON\n",
            "[download] Downloading item 7 of 14\n",
            "[youtube] Extracting URL: https://www.youtube.com/watch?v=2hsn7AxXKmg\n",
            "[youtube] 2hsn7AxXKmg: Downloading webpage\n",
            "[youtube] 2hsn7AxXKmg: Downloading android player API JSON\n",
            "[download] Downloading item 8 of 14\n",
            "[youtube] Extracting URL: https://www.youtube.com/watch?v=MztLZWibctI\n",
            "[youtube] MztLZWibctI: Downloading webpage\n",
            "[youtube] MztLZWibctI: Downloading android player API JSON\n",
            "[download] Downloading item 9 of 14\n",
            "[youtube] Extracting URL: https://www.youtube.com/watch?v=m8K66w_VMcU\n",
            "[youtube] m8K66w_VMcU: Downloading webpage\n",
            "[youtube] m8K66w_VMcU: Downloading android player API JSON\n",
            "[download] Downloading item 10 of 14\n",
            "[youtube] Extracting URL: https://www.youtube.com/watch?v=tIrcxwLqzjQ\n",
            "[youtube] tIrcxwLqzjQ: Downloading webpage\n",
            "[youtube] tIrcxwLqzjQ: Downloading android player API JSON\n",
            "[download] Downloading item 11 of 14\n",
            "[youtube] Extracting URL: https://www.youtube.com/watch?v=KD-Yoel6EVQ\n",
            "[youtube] KD-Yoel6EVQ: Downloading webpage\n",
            "[youtube] KD-Yoel6EVQ: Downloading android player API JSON\n",
            "[download] Downloading item 12 of 14\n",
            "[youtube] Extracting URL: https://www.youtube.com/watch?v=hy3sd9MOAcc\n",
            "[youtube] hy3sd9MOAcc: Downloading webpage\n",
            "[youtube] hy3sd9MOAcc: Downloading android player API JSON\n",
            "[download] Downloading item 13 of 14\n",
            "[youtube] Extracting URL: https://www.youtube.com/watch?v=e4fwY9ZsxPw\n",
            "[youtube] e4fwY9ZsxPw: Downloading webpage\n",
            "[youtube] e4fwY9ZsxPw: Downloading android player API JSON\n",
            "[download] Downloading item 14 of 14\n",
            "[youtube] Extracting URL: https://www.youtube.com/watch?v=6pgodt1mezg\n",
            "[youtube] 6pgodt1mezg: Downloading webpage\n",
            "[youtube] 6pgodt1mezg: Downloading android player API JSON\n",
            "[download] Finished downloading playlist: CS50's Introduction to Programming with Python (CS50P) 2022\n",
            "[youtube] Extracting URL: https://www.youtube.com/watch?v=OvKCESUCWII\n",
            "[youtube] OvKCESUCWII: Downloading webpage\n",
            "[youtube] OvKCESUCWII: Downloading android player API JSON\n",
            "[youtube] Extracting URL: https://www.youtube.com/watch?v=JP7ITIXGpHk\n",
            "[youtube] JP7ITIXGpHk: Downloading webpage\n",
            "[youtube] JP7ITIXGpHk: Downloading android player API JSON\n",
            "[youtube] Extracting URL: https://www.youtube.com/watch?v=Oi1lvJS4uS8\n",
            "[youtube] Oi1lvJS4uS8: Downloading webpage\n",
            "[youtube] Oi1lvJS4uS8: Downloading android player API JSON\n",
            "[youtube] Extracting URL: https://www.youtube.com/watch?v=_b6NgY_pMdw\n",
            "[youtube] _b6NgY_pMdw: Downloading webpage\n",
            "[youtube] _b6NgY_pMdw: Downloading android player API JSON\n",
            "[youtube] Extracting URL: https://www.youtube.com/watch?v=-7xg8pGcP6w\n",
            "[youtube] -7xg8pGcP6w: Downloading webpage\n",
            "[youtube] -7xg8pGcP6w: Downloading android player API JSON\n",
            "[youtube] Extracting URL: https://www.youtube.com/watch?v=LW7g1169v7w\n",
            "[youtube] LW7g1169v7w: Downloading webpage\n",
            "[youtube] LW7g1169v7w: Downloading android player API JSON\n",
            "[youtube] Extracting URL: https://www.youtube.com/watch?v=2hsn7AxXKmg\n",
            "[youtube] 2hsn7AxXKmg: Downloading webpage\n",
            "[youtube] 2hsn7AxXKmg: Downloading android player API JSON\n",
            "[youtube] 2hsn7AxXKmg: Downloading player 0c487f05\n",
            "[youtube] Extracting URL: https://www.youtube.com/watch?v=MztLZWibctI\n",
            "[youtube] MztLZWibctI: Downloading webpage\n",
            "[youtube] MztLZWibctI: Downloading android player API JSON\n",
            "[youtube] Extracting URL: https://www.youtube.com/watch?v=m8K66w_VMcU\n",
            "[youtube] m8K66w_VMcU: Downloading webpage\n",
            "[youtube] m8K66w_VMcU: Downloading android player API JSON\n",
            "[youtube] Extracting URL: https://www.youtube.com/watch?v=tIrcxwLqzjQ\n",
            "[youtube] tIrcxwLqzjQ: Downloading webpage\n",
            "[youtube] tIrcxwLqzjQ: Downloading android player API JSON\n",
            "[youtube] Extracting URL: https://www.youtube.com/watch?v=KD-Yoel6EVQ\n",
            "[youtube] KD-Yoel6EVQ: Downloading webpage\n",
            "[youtube] KD-Yoel6EVQ: Downloading android player API JSON\n",
            "[youtube] Extracting URL: https://www.youtube.com/watch?v=hy3sd9MOAcc\n",
            "[youtube] hy3sd9MOAcc: Downloading webpage\n",
            "[youtube] hy3sd9MOAcc: Downloading android player API JSON\n",
            "[youtube] Extracting URL: https://www.youtube.com/watch?v=e4fwY9ZsxPw\n",
            "[youtube] e4fwY9ZsxPw: Downloading webpage\n",
            "[youtube] e4fwY9ZsxPw: Downloading android player API JSON\n",
            "[youtube] Extracting URL: https://www.youtube.com/watch?v=6pgodt1mezg\n",
            "[youtube] 6pgodt1mezg: Downloading webpage\n",
            "[youtube] 6pgodt1mezg: Downloading android player API JSON\n"
          ]
        }
      ],
      "source": [
        "import yt_dlp\n",
        "\n",
        "# Replace the URL below with the URL of the YouTube playlist you want to extract links from\n",
        "playlist_url = 'https://youtube.com/playlist?list=PLhQjrBD2T3817j24-GogXmWqO5Q5vYy0V'\n",
        "\n",
        "# Create a `yt_dlp` instance\n",
        "ydl = yt_dlp.YoutubeDL({'ignoreerrors': True})\n",
        "\n",
        "# Extract all video links from the playlist\n",
        "playlist_info = ydl.extract_info(playlist_url, download=False)\n",
        "video_links = [f'https://www.youtube.com/watch?v={entry[\"id\"]}' for entry in playlist_info['entries']]\n",
        "\n",
        "for i in video_links:\n",
        "    new_row = youtube(i)\n",
        "    df.loc[len(df)] = new_row\n"
      ]
    },
    {
      "cell_type": "code",
      "execution_count": null,
      "id": "48504a75",
      "metadata": {
        "id": "48504a75"
      },
      "outputs": [],
      "source": [
        "df.to_csv('Youtube.csv', index=False)"
      ]
    },
    {
      "cell_type": "code",
      "execution_count": null,
      "id": "9f8628c8",
      "metadata": {
        "id": "9f8628c8"
      },
      "outputs": [],
      "source": []
    }
  ],
  "metadata": {
    "kernelspec": {
      "display_name": "Python 3 (ipykernel)",
      "language": "python",
      "name": "python3"
    },
    "language_info": {
      "codemirror_mode": {
        "name": "ipython",
        "version": 3
      },
      "file_extension": ".py",
      "mimetype": "text/x-python",
      "name": "python",
      "nbconvert_exporter": "python",
      "pygments_lexer": "ipython3",
      "version": "3.9.13"
    },
    "colab": {
      "provenance": [],
      "include_colab_link": true
    }
  },
  "nbformat": 4,
  "nbformat_minor": 5
}