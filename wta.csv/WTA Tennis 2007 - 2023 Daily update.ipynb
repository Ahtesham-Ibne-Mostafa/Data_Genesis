{
 "cells": [
  {
   "cell_type": "code",
   "execution_count": 3,
   "id": "3b7c832f",
   "metadata": {},
   "outputs": [],
   "source": [
    "import pandas as pd\n",
    "import numpy as np"
   ]
  },
  {
   "cell_type": "code",
   "execution_count": 17,
   "id": "8d9e85c6",
   "metadata": {},
   "outputs": [],
   "source": [
    "dataset=pd.read_csv(\"wta.csv\")"
   ]
  },
  {
   "cell_type": "code",
   "execution_count": 18,
   "id": "ae9dde64",
   "metadata": {},
   "outputs": [
    {
     "data": {
      "text/html": [
       "<div>\n",
       "<style scoped>\n",
       "    .dataframe tbody tr th:only-of-type {\n",
       "        vertical-align: middle;\n",
       "    }\n",
       "\n",
       "    .dataframe tbody tr th {\n",
       "        vertical-align: top;\n",
       "    }\n",
       "\n",
       "    .dataframe thead th {\n",
       "        text-align: right;\n",
       "    }\n",
       "</style>\n",
       "<table border=\"1\" class=\"dataframe\">\n",
       "  <thead>\n",
       "    <tr style=\"text-align: right;\">\n",
       "      <th></th>\n",
       "      <th>Tournament</th>\n",
       "      <th>Date</th>\n",
       "      <th>Court</th>\n",
       "      <th>Surface</th>\n",
       "      <th>Round</th>\n",
       "      <th>Best of</th>\n",
       "      <th>Player_1</th>\n",
       "      <th>Player_2</th>\n",
       "      <th>Winner</th>\n",
       "      <th>Rank_1</th>\n",
       "      <th>Rank_2</th>\n",
       "      <th>Pts_1</th>\n",
       "      <th>Pts_2</th>\n",
       "      <th>Odd_1</th>\n",
       "      <th>Odd_2</th>\n",
       "      <th>Score</th>\n",
       "    </tr>\n",
       "  </thead>\n",
       "  <tbody>\n",
       "    <tr>\n",
       "      <th>0</th>\n",
       "      <td>ASB Classic</td>\n",
       "      <td>2007-01-01 00:00:00</td>\n",
       "      <td>Outdoor</td>\n",
       "      <td>Hard</td>\n",
       "      <td>1st Round</td>\n",
       "      <td>3</td>\n",
       "      <td>Sun T.T.</td>\n",
       "      <td>Baker L.</td>\n",
       "      <td>Sun T.T.</td>\n",
       "      <td>81</td>\n",
       "      <td>272</td>\n",
       "      <td>332</td>\n",
       "      <td>90</td>\n",
       "      <td>1.33</td>\n",
       "      <td>3.00</td>\n",
       "      <td>6-1 6-1</td>\n",
       "    </tr>\n",
       "    <tr>\n",
       "      <th>1</th>\n",
       "      <td>ASB Classic</td>\n",
       "      <td>2007-01-01 00:00:00</td>\n",
       "      <td>Outdoor</td>\n",
       "      <td>Hard</td>\n",
       "      <td>1st Round</td>\n",
       "      <td>3</td>\n",
       "      <td>Myskina A.</td>\n",
       "      <td>Dulko G.</td>\n",
       "      <td>Dulko G.</td>\n",
       "      <td>16</td>\n",
       "      <td>59</td>\n",
       "      <td>1000</td>\n",
       "      <td>401</td>\n",
       "      <td>1.22</td>\n",
       "      <td>3.75</td>\n",
       "      <td>1-6 7-6 2-6</td>\n",
       "    </tr>\n",
       "    <tr>\n",
       "      <th>2</th>\n",
       "      <td>ASB Classic</td>\n",
       "      <td>2007-01-01 00:00:00</td>\n",
       "      <td>Outdoor</td>\n",
       "      <td>Hard</td>\n",
       "      <td>1st Round</td>\n",
       "      <td>3</td>\n",
       "      <td>Loit E.</td>\n",
       "      <td>Birnerova E.</td>\n",
       "      <td>Loit E.</td>\n",
       "      <td>56</td>\n",
       "      <td>84</td>\n",
       "      <td>418</td>\n",
       "      <td>324</td>\n",
       "      <td>1.72</td>\n",
       "      <td>2.00</td>\n",
       "      <td>6-1 6-1</td>\n",
       "    </tr>\n",
       "    <tr>\n",
       "      <th>3</th>\n",
       "      <td>ASB Classic</td>\n",
       "      <td>2007-01-01 00:00:00</td>\n",
       "      <td>Outdoor</td>\n",
       "      <td>Hard</td>\n",
       "      <td>1st Round</td>\n",
       "      <td>3</td>\n",
       "      <td>Nakamura A.</td>\n",
       "      <td>Craybas J.</td>\n",
       "      <td>Craybas J.</td>\n",
       "      <td>57</td>\n",
       "      <td>70</td>\n",
       "      <td>405</td>\n",
       "      <td>365</td>\n",
       "      <td>1.83</td>\n",
       "      <td>1.83</td>\n",
       "      <td>5-7 2-6</td>\n",
       "    </tr>\n",
       "    <tr>\n",
       "      <th>4</th>\n",
       "      <td>ASB Classic</td>\n",
       "      <td>2007-01-01 00:00:00</td>\n",
       "      <td>Outdoor</td>\n",
       "      <td>Hard</td>\n",
       "      <td>1st Round</td>\n",
       "      <td>3</td>\n",
       "      <td>Bartoli M.</td>\n",
       "      <td>Morita A.</td>\n",
       "      <td>Bartoli M.</td>\n",
       "      <td>18</td>\n",
       "      <td>180</td>\n",
       "      <td>951</td>\n",
       "      <td>152</td>\n",
       "      <td>1.16</td>\n",
       "      <td>4.50</td>\n",
       "      <td>7-6 6-3</td>\n",
       "    </tr>\n",
       "  </tbody>\n",
       "</table>\n",
       "</div>"
      ],
      "text/plain": [
       "    Tournament                 Date    Court Surface      Round  Best of  \\\n",
       "0  ASB Classic  2007-01-01 00:00:00  Outdoor    Hard  1st Round        3   \n",
       "1  ASB Classic  2007-01-01 00:00:00  Outdoor    Hard  1st Round        3   \n",
       "2  ASB Classic  2007-01-01 00:00:00  Outdoor    Hard  1st Round        3   \n",
       "3  ASB Classic  2007-01-01 00:00:00  Outdoor    Hard  1st Round        3   \n",
       "4  ASB Classic  2007-01-01 00:00:00  Outdoor    Hard  1st Round        3   \n",
       "\n",
       "      Player_1      Player_2      Winner  Rank_1  Rank_2  Pts_1  Pts_2 Odd_1  \\\n",
       "0     Sun T.T.      Baker L.    Sun T.T.      81     272    332     90  1.33   \n",
       "1   Myskina A.      Dulko G.    Dulko G.      16      59   1000    401  1.22   \n",
       "2      Loit E.  Birnerova E.     Loit E.      56      84    418    324  1.72   \n",
       "3  Nakamura A.    Craybas J.  Craybas J.      57      70    405    365  1.83   \n",
       "4   Bartoli M.     Morita A.  Bartoli M.      18     180    951    152  1.16   \n",
       "\n",
       "   Odd_2        Score  \n",
       "0   3.00     6-1 6-1   \n",
       "1   3.75  1-6 7-6 2-6  \n",
       "2   2.00     6-1 6-1   \n",
       "3   1.83     5-7 2-6   \n",
       "4   4.50     7-6 6-3   "
      ]
     },
     "execution_count": 18,
     "metadata": {},
     "output_type": "execute_result"
    }
   ],
   "source": [
    "dataset.head()"
   ]
  },
  {
   "cell_type": "code",
   "execution_count": 19,
   "id": "c360c821",
   "metadata": {},
   "outputs": [],
   "source": [
    "df=dataset.head(5000)"
   ]
  },
  {
   "cell_type": "code",
   "execution_count": 20,
   "id": "4786d28f",
   "metadata": {},
   "outputs": [
    {
     "name": "stdout",
     "output_type": "stream",
     "text": [
      "<class 'pandas.core.frame.DataFrame'>\n",
      "RangeIndex: 5000 entries, 0 to 4999\n",
      "Data columns (total 16 columns):\n",
      " #   Column      Non-Null Count  Dtype  \n",
      "---  ------      --------------  -----  \n",
      " 0   Tournament  5000 non-null   object \n",
      " 1   Date        5000 non-null   object \n",
      " 2   Court       5000 non-null   object \n",
      " 3   Surface     5000 non-null   object \n",
      " 4   Round       5000 non-null   object \n",
      " 5   Best of     5000 non-null   int64  \n",
      " 6   Player_1    5000 non-null   object \n",
      " 7   Player_2    5000 non-null   object \n",
      " 8   Winner      5000 non-null   object \n",
      " 9   Rank_1      5000 non-null   int64  \n",
      " 10  Rank_2      5000 non-null   int64  \n",
      " 11  Pts_1       5000 non-null   int64  \n",
      " 12  Pts_2       5000 non-null   int64  \n",
      " 13  Odd_1       5000 non-null   object \n",
      " 14  Odd_2       5000 non-null   float64\n",
      " 15  Score       5000 non-null   object \n",
      "dtypes: float64(1), int64(5), object(10)\n",
      "memory usage: 625.1+ KB\n"
     ]
    }
   ],
   "source": [
    "df.info()"
   ]
  },
  {
   "cell_type": "code",
   "execution_count": 21,
   "id": "ad4fd407",
   "metadata": {},
   "outputs": [],
   "source": [
    "from sklearn.preprocessing import LabelEncoder\n",
    "\n",
    "encoder = LabelEncoder()\n",
    "\n",
    "dataset['Tournament'] = encoder.fit_transform(dataset['Tournament'])\n",
    "dataset['Date']  = encoder.fit_transform(dataset['Date'])\n",
    "dataset['Court']  = encoder.fit_transform(dataset['Court'])\n"
   ]
  },
  {
   "cell_type": "code",
   "execution_count": null,
   "id": "13294cb2",
   "metadata": {},
   "outputs": [],
   "source": [
    ",'Court','Surface','Round','Player_1','Player_2','Winner','Odd_1','Odd_2','Score'"
   ]
  },
  {
   "cell_type": "code",
   "execution_count": 24,
   "id": "a958e846",
   "metadata": {},
   "outputs": [
    {
     "data": {
      "text/plain": [
       "1"
      ]
     },
     "execution_count": 24,
     "metadata": {},
     "output_type": "execute_result"
    }
   ],
   "source": [
    "def convert(st):\n",
    "    try :\n",
    "        st = float(st)\n",
    "        return float(st)\n",
    "    except Exception as e:\n",
    "        return None\n",
    "df.Odd_1 = df.Odd_1.apply(convert)\n",
    "df.Odd_1.isnull().sum()"
   ]
  },
  {
   "cell_type": "code",
   "execution_count": 25,
   "id": "b3561068",
   "metadata": {},
   "outputs": [
    {
     "name": "stdout",
     "output_type": "stream",
     "text": [
      "<class 'pandas.core.frame.DataFrame'>\n",
      "RangeIndex: 5000 entries, 0 to 4999\n",
      "Data columns (total 16 columns):\n",
      " #   Column      Non-Null Count  Dtype  \n",
      "---  ------      --------------  -----  \n",
      " 0   Tournament  5000 non-null   object \n",
      " 1   Date        5000 non-null   object \n",
      " 2   Court       5000 non-null   object \n",
      " 3   Surface     5000 non-null   object \n",
      " 4   Round       5000 non-null   object \n",
      " 5   Best of     5000 non-null   int64  \n",
      " 6   Player_1    5000 non-null   object \n",
      " 7   Player_2    5000 non-null   object \n",
      " 8   Winner      5000 non-null   object \n",
      " 9   Rank_1      5000 non-null   int64  \n",
      " 10  Rank_2      5000 non-null   int64  \n",
      " 11  Pts_1       5000 non-null   int64  \n",
      " 12  Pts_2       5000 non-null   int64  \n",
      " 13  Odd_1       4999 non-null   float64\n",
      " 14  Odd_2       5000 non-null   float64\n",
      " 15  Score       5000 non-null   object \n",
      "dtypes: float64(2), int64(5), object(9)\n",
      "memory usage: 625.1+ KB\n"
     ]
    }
   ],
   "source": [
    "df.info()"
   ]
  },
  {
   "cell_type": "code",
   "execution_count": 28,
   "id": "95518684",
   "metadata": {},
   "outputs": [
    {
     "data": {
      "text/plain": [
       "5000"
      ]
     },
     "execution_count": 28,
     "metadata": {},
     "output_type": "execute_result"
    }
   ],
   "source": [
    "df['Score'].apply(len)"
   ]
  },
  {
   "cell_type": "code",
   "execution_count": 40,
   "id": "e723bddb",
   "metadata": {},
   "outputs": [
    {
     "ename": "ValueError",
     "evalue": "invalid literal for int() with base 10: ''",
     "output_type": "error",
     "traceback": [
      "\u001b[1;31m---------------------------------------------------------------------------\u001b[0m",
      "\u001b[1;31mValueError\u001b[0m                                Traceback (most recent call last)",
      "\u001b[1;32m~\\AppData\\Local\\Temp/ipykernel_13584/1627604871.py\u001b[0m in \u001b[0;36m<module>\u001b[1;34m\u001b[0m\n\u001b[0;32m      3\u001b[0m     \u001b[0mf\u001b[0m\u001b[1;33m=\u001b[0m\u001b[0mi\u001b[0m\u001b[1;33m.\u001b[0m\u001b[0msplit\u001b[0m\u001b[1;33m(\u001b[0m\u001b[1;34m' '\u001b[0m\u001b[1;33m)\u001b[0m\u001b[1;33m\u001b[0m\u001b[1;33m\u001b[0m\u001b[0m\n\u001b[0;32m      4\u001b[0m     \u001b[1;32mif\u001b[0m \u001b[0mf\u001b[0m\u001b[1;33m[\u001b[0m\u001b[1;36m2\u001b[0m\u001b[1;33m]\u001b[0m\u001b[1;33m==\u001b[0m\u001b[1;34m''\u001b[0m\u001b[1;33m:\u001b[0m\u001b[1;33m\u001b[0m\u001b[1;33m\u001b[0m\u001b[0m\n\u001b[1;32m----> 5\u001b[1;33m         \u001b[0ma\u001b[0m\u001b[1;33m=\u001b[0m\u001b[0mint\u001b[0m\u001b[1;33m(\u001b[0m\u001b[0mf\u001b[0m\u001b[1;33m[\u001b[0m\u001b[1;36m0\u001b[0m\u001b[1;33m]\u001b[0m\u001b[1;33m.\u001b[0m\u001b[0msplit\u001b[0m\u001b[1;33m(\u001b[0m\u001b[1;34m'-'\u001b[0m\u001b[1;33m)\u001b[0m\u001b[1;33m[\u001b[0m\u001b[1;36m0\u001b[0m\u001b[1;33m]\u001b[0m\u001b[1;33m)\u001b[0m\u001b[1;33m+\u001b[0m\u001b[0mint\u001b[0m\u001b[1;33m(\u001b[0m\u001b[0mf\u001b[0m\u001b[1;33m[\u001b[0m\u001b[1;36m1\u001b[0m\u001b[1;33m]\u001b[0m\u001b[1;33m.\u001b[0m\u001b[0msplit\u001b[0m\u001b[1;33m(\u001b[0m\u001b[1;34m'-'\u001b[0m\u001b[1;33m)\u001b[0m\u001b[1;33m[\u001b[0m\u001b[1;36m0\u001b[0m\u001b[1;33m]\u001b[0m\u001b[1;33m)\u001b[0m\u001b[1;33m\u001b[0m\u001b[1;33m\u001b[0m\u001b[0m\n\u001b[0m\u001b[0;32m      6\u001b[0m     \u001b[1;32melse\u001b[0m\u001b[1;33m:\u001b[0m\u001b[1;33m\u001b[0m\u001b[1;33m\u001b[0m\u001b[0m\n\u001b[0;32m      7\u001b[0m         \u001b[0ma\u001b[0m\u001b[1;33m=\u001b[0m\u001b[0mint\u001b[0m\u001b[1;33m(\u001b[0m\u001b[0mf\u001b[0m\u001b[1;33m[\u001b[0m\u001b[1;36m0\u001b[0m\u001b[1;33m]\u001b[0m\u001b[1;33m.\u001b[0m\u001b[0msplit\u001b[0m\u001b[1;33m(\u001b[0m\u001b[1;34m'-'\u001b[0m\u001b[1;33m)\u001b[0m\u001b[1;33m[\u001b[0m\u001b[1;36m1\u001b[0m\u001b[1;33m]\u001b[0m\u001b[1;33m)\u001b[0m\u001b[1;33m+\u001b[0m\u001b[0mint\u001b[0m\u001b[1;33m(\u001b[0m\u001b[0mf\u001b[0m\u001b[1;33m[\u001b[0m\u001b[1;36m1\u001b[0m\u001b[1;33m]\u001b[0m\u001b[1;33m.\u001b[0m\u001b[0msplit\u001b[0m\u001b[1;33m(\u001b[0m\u001b[1;34m'-'\u001b[0m\u001b[1;33m)\u001b[0m\u001b[1;33m[\u001b[0m\u001b[1;36m1\u001b[0m\u001b[1;33m]\u001b[0m\u001b[1;33m)\u001b[0m\u001b[1;33m+\u001b[0m\u001b[0mint\u001b[0m\u001b[1;33m(\u001b[0m\u001b[0mf\u001b[0m\u001b[1;33m[\u001b[0m\u001b[1;36m2\u001b[0m\u001b[1;33m]\u001b[0m\u001b[1;33m.\u001b[0m\u001b[0msplit\u001b[0m\u001b[1;33m(\u001b[0m\u001b[1;34m'-'\u001b[0m\u001b[1;33m)\u001b[0m\u001b[1;33m[\u001b[0m\u001b[1;36m1\u001b[0m\u001b[1;33m]\u001b[0m\u001b[1;33m)\u001b[0m\u001b[1;33m\u001b[0m\u001b[1;33m\u001b[0m\u001b[0m\n",
      "\u001b[1;31mValueError\u001b[0m: invalid literal for int() with base 10: ''"
     ]
    }
   ],
   "source": [
    "lst=[]\n",
    "for i in df['Score']:\n",
    "    f=i.split(' ')\n",
    "    if f[2]=='':\n",
    "        a=int(f[0].split('-')[0])+int(f[1].split('-')[0])\n",
    "    else:\n",
    "        a=int(f[0].split('-')[1])+int(f[1].split('-')[1])+int(f[2].split('-')[1])\n",
    "    lst.append(a)\n",
    "print(a)\n",
    "df['Player_1_Score']"
   ]
  },
  {
   "cell_type": "code",
   "execution_count": null,
   "id": "3a3d5314",
   "metadata": {},
   "outputs": [],
   "source": []
  }
 ],
 "metadata": {
  "kernelspec": {
   "display_name": "Python 3 (ipykernel)",
   "language": "python",
   "name": "python3"
  },
  "language_info": {
   "codemirror_mode": {
    "name": "ipython",
    "version": 3
   },
   "file_extension": ".py",
   "mimetype": "text/x-python",
   "name": "python",
   "nbconvert_exporter": "python",
   "pygments_lexer": "ipython3",
   "version": "3.9.7"
  }
 },
 "nbformat": 4,
 "nbformat_minor": 5
}
